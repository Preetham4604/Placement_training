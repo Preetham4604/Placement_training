{
 "cells": [
  {
   "cell_type": "code",
   "execution_count": 8,
   "id": "38b47d33",
   "metadata": {},
   "outputs": [
    {
     "name": "stdout",
     "output_type": "stream",
     "text": [
      "Enter 2 numbers such that number1<number2\n",
      "Enter number 1 : 10\n",
      "Enter number 2 : 150\n",
      "Enter how many number of Disarium need to be extracted : 2\n",
      "First 2 disarium numbers between 10 and 150 are : [89, 135]\n"
     ]
    }
   ],
   "source": [
    "def isDisarium(num):\n",
    "    out = 0\n",
    "    numStr = str(num)\n",
    "    for i in range(len(str(num))):\n",
    "        out += int(numStr[i])**(i+1)\n",
    "    if num == out:\n",
    "        return True\n",
    "    return False\n",
    "\n",
    "print(\"Enter 2 numbers such that number1<number2\")\n",
    "num1 = int(input(\"Enter number 1 : \"))\n",
    "num2 = int(input(\"Enter number 2 : \"))\n",
    "\n",
    "n = int(input(\"Enter how many number of Disarium need to be extracted : \"))\n",
    "count = 0\n",
    "num = num1+1\n",
    "NDisariums = [] \n",
    "while num<num2 and count<n:\n",
    "    if isDisarium(num):\n",
    "        NDisariums.append(num)\n",
    "        count+=1\n",
    "    num+=1\n",
    "print(f\"First {n} disarium numbers between {num1} and {num2} are : {NDisariums}\")"
   ]
  }
 ],
 "metadata": {
  "kernelspec": {
   "display_name": "Python 3 (ipykernel)",
   "language": "python",
   "name": "python3"
  },
  "language_info": {
   "codemirror_mode": {
    "name": "ipython",
    "version": 3
   },
   "file_extension": ".py",
   "mimetype": "text/x-python",
   "name": "python",
   "nbconvert_exporter": "python",
   "pygments_lexer": "ipython3",
   "version": "3.9.13"
  }
 },
 "nbformat": 4,
 "nbformat_minor": 5
}
