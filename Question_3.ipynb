{
 "cells": [
  {
   "cell_type": "code",
   "execution_count": 3,
   "id": "e7414f25",
   "metadata": {},
   "outputs": [
    {
     "name": "stdout",
     "output_type": "stream",
     "text": [
      "Enter how many Disarium numbers you want: 6\n",
      "First 6 Disarium numbers: [0, 1, 2, 3, 4, 5]\n",
      "\n",
      "Enter start of range: 2\n",
      "Enter end of range: 4\n",
      "Disarium numbers between 2 and 4: [2, 3, 4]\n"
     ]
    }
   ],
   "source": [
    "def is_disarium(num):\n",
    "    total = 0\n",
    "    for idx, digit in enumerate(str(num), start=1):\n",
    "        total += int(digit) ** idx\n",
    "    return total == num\n",
    "def first_n_disarium(n):\n",
    "    result = []\n",
    "    num = 0\n",
    "    while len(result) < n:\n",
    "        if is_disarium(num):\n",
    "            result.append(num)\n",
    "        num += 1\n",
    "    return result\n",
    "def disarium_in_range(start, end):\n",
    "    return [num for num in range(start, end + 1) if is_disarium(num)]\n",
    "n = int(input(\"Enter how many Disarium numbers you want: \"))\n",
    "print(f\"First {n} Disarium numbers:\", first_n_disarium(n))\n",
    "start = int(input(\"\\nEnter start of range: \"))\n",
    "end = int(input(\"Enter end of range: \"))\n",
    "print(f\"Disarium numbers between {start} and {end}:\", disarium_in_range(start, end))"
   ]
  }
 ],
 "metadata": {
  "kernelspec": {
   "display_name": "Python 3 (ipykernel)",
   "language": "python",
   "name": "python3"
  },
  "language_info": {
   "codemirror_mode": {
    "name": "ipython",
    "version": 3
   },
   "file_extension": ".py",
   "mimetype": "text/x-python",
   "name": "python",
   "nbconvert_exporter": "python",
   "pygments_lexer": "ipython3",
   "version": "3.9.13"
  }
 },
 "nbformat": 4,
 "nbformat_minor": 5
}
