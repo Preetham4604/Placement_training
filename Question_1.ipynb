{
 "cells": [
  {
   "cell_type": "code",
   "execution_count": 3,
   "id": "6240c24b",
   "metadata": {},
   "outputs": [
    {
     "name": "stdout",
     "output_type": "stream",
     "text": [
      "Maximum stolen value: 22\n"
     ]
    }
   ],
   "source": [
    "def max_steal(val):\n",
    "    prev1 = 0\n",
    "    prev2 = 0\n",
    "    for num in val:\n",
    "        temp = prev1\n",
    "        prev1 = max(prev2 + num, prev1)\n",
    "        prev2 = temp\n",
    "    return prev1\n",
    "val = [8, 6, 1, 7, 8, 1, 5]\n",
    "print(\"Maximum stolen value:\", max_steal(val))"
   ]
  },
  {
   "cell_type": "code",
   "execution_count": null,
   "id": "8f678c44",
   "metadata": {},
   "outputs": [],
   "source": []
  }
 ],
 "metadata": {
  "kernelspec": {
   "display_name": "Python 3 (ipykernel)",
   "language": "python",
   "name": "python3"
  },
  "language_info": {
   "codemirror_mode": {
    "name": "ipython",
    "version": 3
   },
   "file_extension": ".py",
   "mimetype": "text/x-python",
   "name": "python",
   "nbconvert_exporter": "python",
   "pygments_lexer": "ipython3",
   "version": "3.9.13"
  }
 },
 "nbformat": 4,
 "nbformat_minor": 5
}
