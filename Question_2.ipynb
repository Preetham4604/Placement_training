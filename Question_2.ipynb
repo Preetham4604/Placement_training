{
 "cells": [
  {
   "cell_type": "code",
   "execution_count": 3,
   "id": "2a407056",
   "metadata": {},
   "outputs": [
    {
     "name": "stdout",
     "output_type": "stream",
     "text": [
      "11112\n",
      "32222\n",
      "33334\n",
      "54444\n",
      "55556\n"
     ]
    }
   ],
   "source": [
    "for i in range(5):\n",
    "    for j in range(5):\n",
    "        if i % 2 == 0:\n",
    "            if j == 4:\n",
    "                print(i + 2, end=\"\")\n",
    "            else:\n",
    "                print(i + 1, end=\"\")\n",
    "        else:\n",
    "            if j == 0:\n",
    "                print(i + 2, end=\"\")\n",
    "            else:\n",
    "                print(i + 1, end=\"\")\n",
    "    print()\n"
   ]
  }
 ],
 "metadata": {
  "kernelspec": {
   "display_name": "Python 3 (ipykernel)",
   "language": "python",
   "name": "python3"
  },
  "language_info": {
   "codemirror_mode": {
    "name": "ipython",
    "version": 3
   },
   "file_extension": ".py",
   "mimetype": "text/x-python",
   "name": "python",
   "nbconvert_exporter": "python",
   "pygments_lexer": "ipython3",
   "version": "3.9.13"
  }
 },
 "nbformat": 4,
 "nbformat_minor": 5
}
